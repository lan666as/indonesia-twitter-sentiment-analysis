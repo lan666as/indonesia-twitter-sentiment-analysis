{
 "cells": [
  {
   "cell_type": "code",
   "execution_count": 1,
   "metadata": {},
   "outputs": [],
   "source": [
    "import tweepy\n",
    "from kafka import KafkaProducer\n",
    "import json\n",
    "import config.config as config\n",
    "\n",
    "BEARER_TOKEN = config.BEARER_TOKEN\n",
    "ALL_EXPANSIONS = [\"author_id\", \"referenced_tweets.id\", \"edit_history_tweet_ids\", \"in_reply_to_user_id\", \"attachments.media_keys\", \"attachments.poll_ids\", \"geo.place_id\", \"entities.mentions.username\", \"referenced_tweets.id.author_id\",]\n",
    "ALL_MEDIA_FIELDS = [\"media_key\", \"type\", \"url\", \"duration_ms\", \"height\", \"preview_image_url\", \"public_metrics\", \"width\", \"alt_text\", \"variants\",]\n",
    "ALL_PLACE_FIELDS = [\"full_name\", \"id\", \"contained_within\", \"country\", \"country_code\", \"geo\", \"name\", \"place_type\",]\n",
    "ALL_POLL_FIELDS = [\"id\", \"options\", \"duration_minutes\", \"end_datetime\", \"voting_status\",]\n",
    "ALL_TWEET_FIELDS = [\"id\", \"text\", \"attachments\", \"author_id\", \"context_annotations\", \"conversation_id\", \"created_at\", \"entities\", \"geo\", \"in_reply_to_user_id\", \"lang\", \"possibly_sensitive\", \"public_metrics\", \"referenced_tweets\", \"reply_settings\", \"source\", \"withheld\",]\n",
    "ALL_USER_FIELDS = [\"id\", \"name\", \"username\", \"created_at\", \"description\", \"entities\", \"location\", \"pinned_tweet_id\", \"profile_image_url\", \"protected\", \"public_metrics\", \"url\", \"verified\", \"withheld\",]\n",
    "\n",
    "client = tweepy.StreamingClient(BEARER_TOKEN, wait_on_rate_limit=True)"
   ]
  },
  {
   "cell_type": "code",
   "execution_count": 4,
   "metadata": {},
   "outputs": [
    {
     "data": {
      "text/plain": [
       "Response(data=[StreamRule(value='(\"Airlangga\" OR \"Hartarto\" OR @airlangga_hrt) lang:in is:retweet', tag='Airlangga Hartarto;retweets', id='1588041405590822912')], includes={}, errors=[], meta={'sent': '2022-11-03T05:32:30.340Z', 'summary': {'created': 1, 'not_created': 0, 'valid': 1, 'invalid': 0}})"
      ]
     },
     "execution_count": 4,
     "metadata": {},
     "output_type": "execute_result"
    }
   ],
   "source": [
    "client.add_rules(tweepy.StreamRule(\"(Anies OR @aniesbaswedan) lang:in -is:retweet\", tag=\"Anies Baswedan;tweets\"))\n",
    "client.add_rules(tweepy.StreamRule(\"(Ganjar OR @ganjarpranowo) lang:in -is:retweet\", tag=\"Ganjar Pranowo;tweets\"))\n",
    "client.add_rules(tweepy.StreamRule(\"(Prabowo OR @prabowo) lang:in -is:retweet\", tag=\"Prabowo Subianto;tweets\"))\n",
    "client.add_rules(tweepy.StreamRule(\"(Puan OR @puanmaharani_ri) lang:in -is:retweet\", tag=\"Puan Maharani;tweets\"))\n",
    "client.add_rules(tweepy.StreamRule(\"((Ridwan Kamil) OR (Kang Emil) OR @ridwankamil) lang:in -is:retweet\", tag=\"Ridwan Kamil;tweets\"))\n",
    "client.add_rules(tweepy.StreamRule(\"((Cak Imin) OR Muhaimin OR @cakimiNOW) lang:in -is:retweet\", tag=\"Muhaimin Iskandar;tweets\"))\n",
    "client.add_rules(tweepy.StreamRule(\"(Erick Thohir) OR @erickthohir lang:in -is:retweet\", tag=\"Erick Thohir;tweets\"))\n",
    "client.add_rules(tweepy.StreamRule('((Agus (Harimurti OR Yudhoyono)) OR \"AHY\" OR @AgusYudhoyono) lang:in -is:retweet', tag=\"Agus Harimurti Yudhoyono;tweets\"))\n",
    "client.add_rules(tweepy.StreamRule('(\"Airlangga\" OR \"Hartarto\" OR @airlangga_hrt) lang:in -is:retweet', tag=\"Airlangga Hartarto;tweets\"))\n",
    "\n",
    "client.add_rules(tweepy.StreamRule(\"(Anies OR @aniesbaswedan) lang:in is:retweet\", tag=\"Anies Baswedan;retweets\"))\n",
    "client.add_rules(tweepy.StreamRule(\"(Ganjar OR @ganjarpranowo) lang:in is:retweet\", tag=\"Ganjar Pranowo;retweets\"))\n",
    "client.add_rules(tweepy.StreamRule(\"(Prabowo OR @prabowo) lang:in is:retweet\", tag=\"Prabowo Subianto;retweets\"))\n",
    "client.add_rules(tweepy.StreamRule(\"(Puan OR @puanmaharani_ri) lang:in is:retweet\", tag=\"Puan Maharani;retweets\"))\n",
    "client.add_rules(tweepy.StreamRule(\"((Ridwan Kamil) OR (Kang Emil) OR @ridwankamil) lang:in is:retweet\", tag=\"Ridwan Kamil;retweets\"))\n",
    "client.add_rules(tweepy.StreamRule(\"((Cak Imin) OR Muhaimin OR @cakimiNOW) lang:in is:retweet\", tag=\"Muhaimin Iskandar;retweets\"))\n",
    "client.add_rules(tweepy.StreamRule(\"(Erick Thohir) OR @erickthohir lang:in is:retweet\", tag=\"Erick Thohir;retweets\"))\n",
    "client.add_rules(tweepy.StreamRule('((Agus (Harimurti OR Yudhoyono)) OR \"AHY\" OR @AgusYudhoyono) lang:in is:retweet', tag=\"Agus Harimurti Yudhoyono;retweets\"))\n",
    "client.add_rules(tweepy.StreamRule('(\"Airlangga\" OR \"Hartarto\" OR @airlangga_hrt) lang:in is:retweet', tag=\"Airlangga Hartarto;retweets\"))"
   ]
  },
  {
   "cell_type": "code",
   "execution_count": 5,
   "metadata": {},
   "outputs": [
    {
     "data": {
      "text/plain": [
       "Response(data=[StreamRule(value='(Anies OR @aniesbaswedan) lang:in -is:retweet', tag='Anies Baswedan;tweets', id='1588041373718315009'), StreamRule(value='(Ganjar OR @ganjarpranowo) lang:in -is:retweet', tag='Ganjar Pranowo;tweets', id='1588041375744151552'), StreamRule(value='(Prabowo OR @prabowo) lang:in -is:retweet', tag='Prabowo Subianto;tweets', id='1588041377598050304'), StreamRule(value='(Puan OR @puanmaharani_ri) lang:in -is:retweet', tag='Puan Maharani;tweets', id='1588041379409965057'), StreamRule(value='((Ridwan Kamil) OR (Kang Emil) OR @ridwankamil) lang:in -is:retweet', tag='Ridwan Kamil;tweets', id='1588041381276418048'), StreamRule(value='((Cak Imin) OR Muhaimin OR @cakimiNOW) lang:in -is:retweet', tag='Muhaimin Iskandar;tweets', id='1588041383151296512'), StreamRule(value='(Erick Thohir) OR @erickthohir lang:in -is:retweet', tag='Erick Thohir;tweets', id='1588041384896114688'), StreamRule(value='((Agus (Harimurti OR Yudhoyono)) OR \"AHY\" OR @AgusYudhoyono) lang:in -is:retweet', tag='Agus Harimurti Yudhoyono;tweets', id='1588041386791931904'), StreamRule(value='(\"Airlangga\" OR \"Hartarto\" OR @airlangga_hrt) lang:in -is:retweet', tag='Airlangga Hartarto;tweets', id='1588041388842962945'), StreamRule(value='(Anies OR @aniesbaswedan) lang:in is:retweet', tag='Anies Baswedan;retweets', id='1588041390835236864'), StreamRule(value='(Ganjar OR @ganjarpranowo) lang:in is:retweet', tag='Ganjar Pranowo;retweets', id='1588041392601051138'), StreamRule(value='(Prabowo OR @prabowo) lang:in is:retweet', tag='Prabowo Subianto;retweets', id='1588041394538811394'), StreamRule(value='(Puan OR @puanmaharani_ri) lang:in is:retweet', tag='Puan Maharani;retweets', id='1588041396371746817'), StreamRule(value='((Ridwan Kamil) OR (Kang Emil) OR @ridwankamil) lang:in is:retweet', tag='Ridwan Kamil;retweets', id='1588041398196260865'), StreamRule(value='((Cak Imin) OR Muhaimin OR @cakimiNOW) lang:in is:retweet', tag='Muhaimin Iskandar;retweets', id='1588041400054317056'), StreamRule(value='(Erick Thohir) OR @erickthohir lang:in is:retweet', tag='Erick Thohir;retweets', id='1588041401945948160'), StreamRule(value='((Agus (Harimurti OR Yudhoyono)) OR \"AHY\" OR @AgusYudhoyono) lang:in is:retweet', tag='Agus Harimurti Yudhoyono;retweets', id='1588041403736948736'), StreamRule(value='(\"Airlangga\" OR \"Hartarto\" OR @airlangga_hrt) lang:in is:retweet', tag='Airlangga Hartarto;retweets', id='1588041405590822912')], includes={}, errors=[], meta={'sent': '2022-11-03T05:32:32.700Z', 'result_count': 18})"
      ]
     },
     "execution_count": 5,
     "metadata": {},
     "output_type": "execute_result"
    }
   ],
   "source": [
    "client.get_rules()"
   ]
  },
  {
   "cell_type": "code",
   "execution_count": 16,
   "metadata": {},
   "outputs": [
    {
     "name": "stdout",
     "output_type": "stream",
     "text": [
      "Rule used: Response(data=[StreamRule(value='(Anies OR @aniesbaswedan) lang:in -is:retweet', tag='Anies Baswedan;tweets', id='1588041373718315009'), StreamRule(value='(Ganjar OR @ganjarpranowo) lang:in -is:retweet', tag='Ganjar Pranowo;tweets', id='1588041375744151552'), StreamRule(value='(Prabowo OR @prabowo) lang:in -is:retweet', tag='Prabowo Subianto;tweets', id='1588041377598050304'), StreamRule(value='(Puan OR @puanmaharani_ri) lang:in -is:retweet', tag='Puan Maharani;tweets', id='1588041379409965057'), StreamRule(value='((Ridwan Kamil) OR (Kang Emil) OR @ridwankamil) lang:in -is:retweet', tag='Ridwan Kamil;tweets', id='1588041381276418048'), StreamRule(value='((Cak Imin) OR Muhaimin OR @cakimiNOW) lang:in -is:retweet', tag='Muhaimin Iskandar;tweets', id='1588041383151296512'), StreamRule(value='(Erick Thohir) OR @erickthohir lang:in -is:retweet', tag='Erick Thohir;tweets', id='1588041384896114688'), StreamRule(value='((Agus (Harimurti OR Yudhoyono)) OR \"AHY\" OR @AgusYudhoyono) lang:in -is:retweet', tag='Agus Harimurti Yudhoyono;tweets', id='1588041386791931904'), StreamRule(value='(\"Airlangga\" OR \"Hartarto\" OR @airlangga_hrt) lang:in -is:retweet', tag='Airlangga Hartarto;tweets', id='1588041388842962945'), StreamRule(value='(Anies OR @aniesbaswedan) lang:in is:retweet', tag='Anies Baswedan;retweets', id='1588041390835236864'), StreamRule(value='(Ganjar OR @ganjarpranowo) lang:in is:retweet', tag='Ganjar Pranowo;retweets', id='1588041392601051138'), StreamRule(value='(Prabowo OR @prabowo) lang:in is:retweet', tag='Prabowo Subianto;retweets', id='1588041394538811394'), StreamRule(value='(Puan OR @puanmaharani_ri) lang:in is:retweet', tag='Puan Maharani;retweets', id='1588041396371746817'), StreamRule(value='((Ridwan Kamil) OR (Kang Emil) OR @ridwankamil) lang:in is:retweet', tag='Ridwan Kamil;retweets', id='1588041398196260865'), StreamRule(value='((Cak Imin) OR Muhaimin OR @cakimiNOW) lang:in is:retweet', tag='Muhaimin Iskandar;retweets', id='1588041400054317056'), StreamRule(value='(Erick Thohir) OR @erickthohir lang:in is:retweet', tag='Erick Thohir;retweets', id='1588041401945948160'), StreamRule(value='((Agus (Harimurti OR Yudhoyono)) OR \"AHY\" OR @AgusYudhoyono) lang:in is:retweet', tag='Agus Harimurti Yudhoyono;retweets', id='1588041403736948736'), StreamRule(value='(\"Airlangga\" OR \"Hartarto\" OR @airlangga_hrt) lang:in is:retweet', tag='Airlangga Hartarto;retweets', id='1588041405590822912')], includes={}, errors=[], meta={'sent': '2022-11-03T06:21:32.469Z', 'result_count': 18})\n"
     ]
    }
   ],
   "source": [
    "class TwitterStreamingClient(tweepy.StreamingClient):\n",
    "    def __init__(self, bearer_token):\n",
    "        super().__init__(bearer_token)\n",
    "        # self.producer = KafkaProducer(\n",
    "        #     bootstrap_servers=['localhost:9092'],\n",
    "        #     value_serializer=lambda m: json.dumps(m).encode('utf-8'),\n",
    "        # )\n",
    "      \n",
    "    def on_response(self, response):\n",
    "        \n",
    "        data = response.data\n",
    "        matching_rules = response.matching_rules\n",
    "        if \"users\" in response.includes:\n",
    "            users_dict = {user.id:user for user in response.includes[\"users\"]}\n",
    "        if \"places\" in response.includes:\n",
    "            places_dict = {place.id:place for place in response.includes[\"places\"]}\n",
    "        if \"tweets\" in response.includes:\n",
    "            tweets_dict = {tweet.id:tweet for tweet in response.includes[\"tweets\"]}\n",
    "\n",
    "        if data is not None:\n",
    "            tags = [matching_rule.tag.split(';') for matching_rule in matching_rules]\n",
    "            \n",
    "            lat, long = None, None\n",
    "            if data.geo:\n",
    "                lat1, long1, lat2, long2 = places_dict[data.geo[\"place_id\"]].geo[\"bbox\"]\n",
    "                lat, long = (lat1+lat2)/2, (long1+long2)/2\n",
    "            \n",
    "            message = {\n",
    "                \"id\" : data.id,\n",
    "                \"author_username\" : users_dict[data.author_id].username,\n",
    "                \"created_at\" : data.created_at.isoformat(),\n",
    "                \"text\" : data.text,\n",
    "                \"lat\" : lat, \"long\" : long,\n",
    "                \"source\" : data.source,\n",
    "                \"retweet_count\" : data.public_metrics[\"retweet_count\"],\n",
    "                \"reply_count\" : data.public_metrics[\"reply_count\"],\n",
    "                \"like_count\" : data.public_metrics[\"like_count\"],\n",
    "                \"quote_count\" : data.public_metrics[\"quote_count\"],\n",
    "                \"possibly_sensitive\" : data.possibly_sensitive,\n",
    "                \"tags\" : [tag[0] for tag in tags],\n",
    "            }\n",
    "            \n",
    "            # self.producer.send(tags[0][1], message)\n",
    "\n",
    "            print(message)\n",
    "\n",
    "            # if data.geo:\n",
    "            #     print(json.dumps(data.data))\n",
    "            #     print(response.includes)\n",
    "            #     lat1, long1, lat2, long2 = places_dict[data.geo[\"place_id\"]].geo[\"bbox\"]\n",
    "            #     print(lat1, long1, lat2, long2)\n",
    "            #     print(places_dict[data.geo[\"place_id\"]].data)\n",
    "            #     print(\"#\"*80)\n",
    "\n",
    "streaming_client_test = TwitterStreamingClient(BEARER_TOKEN)\n",
    "print(f\"Rule used: {streaming_client_test.get_rules()}\")"
   ]
  },
  {
   "cell_type": "code",
   "execution_count": 17,
   "metadata": {},
   "outputs": [
    {
     "name": "stdout",
     "output_type": "stream",
     "text": [
      "{'id': 1588053770789060608, 'author_username': 'alisyarief', 'created_at': '2022-11-03T06:21:38+00:00', 'text': 'Kemendagri Kembalikan Permohonan Anies Cabut Pergub Penggusuran Ahok, Kok Bisa? https://t.co/6nw4foYXeD', 'lat': None, 'long': None, 'source': 'Twitter Web App', 'retweet_count': 0, 'reply_count': 0, 'like_count': 0, 'quote_count': 0, 'possibly_sensitive': False, 'tags': ['Anies Baswedan']}\n",
      "{'id': 1588053771094937600, 'author_username': 'Faridid4Id', 'created_at': '2022-11-03T06:21:38+00:00', 'text': '@ganjarpranowo Pak monggo kulo aturi pencitraan ten demak pak, sidak jembatan wonokerto, macete mpun mboten kiro\", ketambah\" patwal mobil pribadi yg tdk ada kepentingannya untuk negara pak', 'lat': None, 'long': None, 'source': 'Twitter for Android', 'retweet_count': 0, 'reply_count': 0, 'like_count': 0, 'quote_count': 0, 'possibly_sensitive': False, 'tags': ['Ganjar Pranowo']}\n",
      "{'id': 1588053771854417921, 'author_username': 'haqi11official', 'created_at': '2022-11-03T06:21:38+00:00', 'text': 'RT @HarapanBaru16: @kurawa Tukang hoax mau spin hoax.  Matamu belekan\\nhttps://t.co/vS0pOIKLZz', 'lat': None, 'long': None, 'source': 'Twitter Web App', 'retweet_count': 1, 'reply_count': 0, 'like_count': 0, 'quote_count': 0, 'possibly_sensitive': False, 'tags': ['Anies Baswedan']}\n",
      "{'id': 1588053776401076224, 'author_username': 'Jackv52349443', 'created_at': '2022-11-03T06:21:39+00:00', 'text': 'RT @OposisiCerdas: Pemerhati Politik dan Sosial: Jika Ganjar Jadi Presiden, RI Terpuruk dalam Cengkeraman China\\nhttps://t.co/7kvO9GUu3m', 'lat': None, 'long': None, 'source': 'Twitter for Android', 'retweet_count': 212, 'reply_count': 0, 'like_count': 0, 'quote_count': 0, 'possibly_sensitive': False, 'tags': ['Ganjar Pranowo']}\n",
      "{'id': 1588053773791862784, 'author_username': 'Adriana4688', 'created_at': '2022-11-03T06:21:38+00:00', 'text': '@aslamnatsir @AldiNeno @ridwankamil Menurut saya pak @ridwankamil seseorang yang benar-benar memahami kebhinekaan, Pancasila, agama dan politik pun beliau paham. Sudah seharusnya ruang demokrasi kita diisi dengan wawancara/diskusi/pemaparan yang sifatnya teknis dari tokoh-tokoh pemimpin kita.RK layak jadi presiden', 'lat': None, 'long': None, 'source': 'Twitter for Android', 'retweet_count': 0, 'reply_count': 0, 'like_count': 0, 'quote_count': 0, 'possibly_sensitive': False, 'tags': ['Ridwan Kamil']}\n",
      "{'id': 1588053775406665729, 'author_username': 'GhazaliIhwan', 'created_at': '2022-11-03T06:21:39+00:00', 'text': '@jansen_jsp Dia dungu bang jansen, habis digebukin dulu otaknya agak miring.', 'lat': None, 'long': None, 'source': 'Twitter for Android', 'retweet_count': 0, 'reply_count': 0, 'like_count': 0, 'quote_count': 0, 'possibly_sensitive': False, 'tags': ['Anies Baswedan']}\n",
      "{'id': 1588053775570284544, 'author_username': 'ahmadSiH6', 'created_at': '2022-11-03T06:21:39+00:00', 'text': '@tvOneNews Pernah ngadu masalah PT RUMAH njenengan nggih mendel mawon pak... \\n\\nSkippp..', 'lat': None, 'long': None, 'source': 'Twitter for Android', 'retweet_count': 0, 'reply_count': 0, 'like_count': 0, 'quote_count': 0, 'possibly_sensitive': False, 'tags': ['Ganjar Pranowo']}\n",
      "{'id': 1588053780935102465, 'author_username': 'Elvan28427443', 'created_at': '2022-11-03T06:21:40+00:00', 'text': 'Woww... Jokowi restui Prabowo... https://t.co/nDAJz6bGFw', 'lat': None, 'long': None, 'source': 'Twitter Web App', 'retweet_count': 0, 'reply_count': 0, 'like_count': 0, 'quote_count': 0, 'possibly_sensitive': False, 'tags': ['Prabowo Subianto']}\n",
      "{'id': 1588053780079071232, 'author_username': 'farrel27', 'created_at': '2022-11-03T06:21:40+00:00', 'text': 'Dukungan untuk pak @erickthohir terus mengalir dari sejumlah parpol\\n#BangkitBersamaET https://t.co/UrQYZ5USPH', 'lat': None, 'long': None, 'source': 'Twitter for Android', 'retweet_count': 0, 'reply_count': 0, 'like_count': 0, 'quote_count': 0, 'possibly_sensitive': False, 'tags': ['Erick Thohir', 'Erick Thohir']}\n",
      "{'id': 1588053778011680768, 'author_username': 'rmol_id', 'created_at': '2022-11-03T06:21:39+00:00', 'text': 'Dugaan Saiful Anam, KIB Jadi Kendaraan Alternatif Ganjar Kalau Gagal Dapat Tiket Capres dari PDIP https://t.co/ZMNRMjuarc', 'lat': None, 'long': None, 'source': 'Twitter for Android', 'retweet_count': 0, 'reply_count': 0, 'like_count': 0, 'quote_count': 0, 'possibly_sensitive': False, 'tags': ['Ganjar Pranowo']}\n",
      "{'id': 1588053782277287936, 'author_username': 'ArieLaskar', 'created_at': '2022-11-03T06:21:40+00:00', 'text': '@puji_sumarno @ruhutsitompul Mau ngomong atau komen apa juga lo pada, rakyat sdh pinter gak ngaruh, Anies tetap YG TERBAIK berhasil megelolah jkt bahkan terkenal mendunia, Anies Presiden 2024', 'lat': None, 'long': None, 'source': 'Twitter for Android', 'retweet_count': 0, 'reply_count': 0, 'like_count': 0, 'quote_count': 0, 'possibly_sensitive': False, 'tags': ['Anies Baswedan']}\n",
      "{'id': 1588053794964664321, 'author_username': 'Adriana4688', 'created_at': '2022-11-03T06:21:43+00:00', 'text': 'Menurut saya pak @ridwankamil seseorang yang benar-benar memahami kebhinekaan, Pancasila, agama dan politik pun beliau paham. Sudah seharusnya ruang demokrasi kita diisi dengan wawancara/diskusi/pemaparan yang sifatnya teknis dari tokoh-tokoh pemimpin kita.RK layak jadi presiden https://t.co/RCOnB2CtoV', 'lat': None, 'long': None, 'source': 'Twitter for Android', 'retweet_count': 0, 'reply_count': 0, 'like_count': 0, 'quote_count': 0, 'possibly_sensitive': False, 'tags': ['Ridwan Kamil']}\n",
      "{'id': 1588053801566556160, 'author_username': 'eon0108', 'created_at': '2022-11-03T06:21:45+00:00', 'text': 'RT @ganjarpranowo: Membahagiakan rakyat sebenarnya kan tidak sulit, tinggal kita kerja bener, bangun apa yang jadi kebutuhan bersama dan ja…', 'lat': None, 'long': None, 'source': 'Twitter for Android', 'retweet_count': 18, 'reply_count': 0, 'like_count': 0, 'quote_count': 0, 'possibly_sensitive': False, 'tags': ['Ganjar Pranowo']}\n",
      "{'id': 1588053801176510464, 'author_username': 'farrel27', 'created_at': '2022-11-03T06:21:45+00:00', 'text': 'RT @Lima8Satu: Erick Thohir menilai Ajang M20 dan R20 menjadi hal baru dalam KTT G20.\\n\\nIndonesia ingin menawarkan hal berbeda dibanding KTT…', 'lat': None, 'long': None, 'source': 'Twitter for Android', 'retweet_count': 13, 'reply_count': 0, 'like_count': 0, 'quote_count': 0, 'possibly_sensitive': False, 'tags': ['Erick Thohir', 'Erick Thohir']}\n",
      "{'id': 1588053798626263041, 'author_username': 'Andi0266', 'created_at': '2022-11-03T06:21:44+00:00', 'text': '@infoperumnas Sudah 1,5 tahun lebih KPR sy lunas di Perumahan Bumi Parung Panjang tapi Hak Sertipikat sy sebagian belum juga diterima sampai sekarang,lama diproses dan sangat dipersulit.Dimana tanggung jawab dan itikad kalian sbg perusahaan BUMN terhadap Hak Konsumen ? @LAPOR1708 @erickthohir', 'lat': None, 'long': None, 'source': 'Twitter for Android', 'retweet_count': 0, 'reply_count': 0, 'like_count': 0, 'quote_count': 0, 'possibly_sensitive': False, 'tags': ['Erick Thohir']}\n",
      "{'id': 1588053806700703744, 'author_username': 'alius114', 'created_at': '2022-11-03T06:21:46+00:00', 'text': 'RT @Been4Q59: Pantesan SUSANTI Betah Di Malaysia\\n😄....\\n\\n* Dawet Pak Prabowo\\n#STYOut https://t.co/FbWMVnqgvQ', 'lat': None, 'long': None, 'source': 'Twitter for Android', 'retweet_count': 100, 'reply_count': 0, 'like_count': 0, 'quote_count': 0, 'possibly_sensitive': False, 'tags': ['Prabowo Subianto']}\n",
      "{'id': 1588053814749560832, 'author_username': 'joejuve1987', 'created_at': '2022-11-03T06:21:48+00:00', 'text': 'RT @BosPurwa: [TERBUKA KEDOKNYA!!!]\\nADE ARMANDO PENDUKUNG @ganjarpranowo INI ADALAH PELAKU POLITIK IDENTITAS SESUNGGUHNYA dan MEREKALAH SEJ…', 'lat': None, 'long': None, 'source': 'Twitter for Android', 'retweet_count': 829, 'reply_count': 0, 'like_count': 0, 'quote_count': 0, 'possibly_sensitive': False, 'tags': ['Ganjar Pranowo']}\n",
      "{'id': 1588053818595741696, 'author_username': 'Mkelethyang', 'created_at': '2022-11-03T06:21:49+00:00', 'text': 'RT @bos_sir: Deklarasi Relawan IndonesiaAnies @RIndonesianies di JCC Senayan Jakarta. \\nBerpihak pada kemajuan NKRI bersama Bang @aniesbaswe…', 'lat': None, 'long': None, 'source': 'Twitter for Android', 'retweet_count': 203, 'reply_count': 0, 'like_count': 0, 'quote_count': 0, 'possibly_sensitive': False, 'tags': ['Anies Baswedan']}\n",
      "{'id': 1588053818524114944, 'author_username': 'sinthia_tasya', 'created_at': '2022-11-03T06:21:49+00:00', 'text': '@KerryZgonis Gadaikan pancasila kepada kelompok radikal demi dukungan', 'lat': None, 'long': None, 'source': 'Twitter Web App', 'retweet_count': 0, 'reply_count': 0, 'like_count': 0, 'quote_count': 0, 'possibly_sensitive': False, 'tags': ['Anies Baswedan']}\n",
      "{'id': 1588053815546515458, 'author_username': 'SilentReader_21', 'created_at': '2022-11-03T06:21:48+00:00', 'text': '@GunRomli @aniesbaswedan Woii @didienAZHAR, makanya otak dipasang sebelum ngetweet. Akhirnya malu kan????', 'lat': None, 'long': None, 'source': 'Twitter for Android', 'retweet_count': 0, 'reply_count': 0, 'like_count': 0, 'quote_count': 0, 'possibly_sensitive': False, 'tags': ['Anies Baswedan']}\n",
      "{'id': 1588053821401755649, 'author_username': 'OfficialHas', 'created_at': '2022-11-03T06:21:50+00:00', 'text': '@alisyarief Banyak bacot koe mirip tong sampah', 'lat': None, 'long': None, 'source': 'Twitter for Android', 'retweet_count': 0, 'reply_count': 0, 'like_count': 0, 'quote_count': 0, 'possibly_sensitive': False, 'tags': ['Anies Baswedan', 'Ganjar Pranowo']}\n",
      "{'id': 1588053832034004992, 'author_username': 'miftahmnurr', 'created_at': '2022-11-03T06:21:52+00:00', 'text': 'Yang vote mungkin kepencet sendiri https://t.co/aTs17wnzZY', 'lat': None, 'long': None, 'source': 'Twitter for Android', 'retweet_count': 0, 'reply_count': 0, 'like_count': 0, 'quote_count': 0, 'possibly_sensitive': False, 'tags': ['Ganjar Pranowo', 'Puan Maharani']}\n",
      "{'id': 1588053837394255873, 'author_username': 'AnangSibolga', 'created_at': '2022-11-03T06:21:54+00:00', 'text': '@jansen_jsp Kau kan kristen Kadrun \\nBermuka dua .\\nOcop ma gamboi lae asa dua tem.🤣🤣😍😍😍', 'lat': None, 'long': None, 'source': 'Twitter for Android', 'retweet_count': 0, 'reply_count': 0, 'like_count': 0, 'quote_count': 0, 'possibly_sensitive': False, 'tags': ['Anies Baswedan']}\n",
      "{'id': 1588053842926501888, 'author_username': 'SusantoKharisma', 'created_at': '2022-11-03T06:21:55+00:00', 'text': 'RT @cakimiNOW: RUKUN itu Indah, dan membawa kebaikan.\\n@cakimiNOW @MuhaiminSquad \\n#gusmuhaimin2024 #muhaiminsquad #DesaBerdaya https://t.co/…', 'lat': None, 'long': None, 'source': 'Twitter for Android', 'retweet_count': 38, 'reply_count': 0, 'like_count': 0, 'quote_count': 0, 'possibly_sensitive': False, 'tags': ['Muhaimin Iskandar']}\n",
      "{'id': 1588053849519968256, 'author_username': 'OkkySurya3', 'created_at': '2022-11-03T06:21:56+00:00', 'text': 'RT @TemanGanjar2705: Heboh \\nLagu baru \\nYang lagi viral \\n.\\nDi hati ini hanya Ganjar Pranowo \\nby: Dewi Persik \\n.\\n#GanjarPranowo \\n#TemanGanjar…', 'lat': None, 'long': None, 'source': 'Twitter for Android', 'retweet_count': 6, 'reply_count': 0, 'like_count': 0, 'quote_count': 0, 'possibly_sensitive': False, 'tags': ['Ganjar Pranowo']}\n",
      "{'id': 1588053855740497922, 'author_username': 'AbizarGeby', 'created_at': '2022-11-03T06:21:58+00:00', 'text': '@vharianT29 @aniesbaswedan KPU banyak dosa', 'lat': None, 'long': None, 'source': 'Twitter for Android', 'retweet_count': 0, 'reply_count': 0, 'like_count': 0, 'quote_count': 0, 'possibly_sensitive': False, 'tags': ['Anies Baswedan']}\n",
      "{'id': 1588053857162215425, 'author_username': 'Jackv52349443', 'created_at': '2022-11-03T06:21:58+00:00', 'text': 'Nah Bener kan..😂 https://t.co/rMf6CMdRH2', 'lat': None, 'long': None, 'source': 'Twitter for Android', 'retweet_count': 0, 'reply_count': 0, 'like_count': 0, 'quote_count': 0, 'possibly_sensitive': False, 'tags': ['Anies Baswedan']}\n",
      "{'id': 1588053856952254464, 'author_username': 'DudePra', 'created_at': '2022-11-03T06:21:58+00:00', 'text': '@Avrilmaiden_ @Jennifeputri_ Klo udah di Jawa Timur udh dilempar telor kau nies Anies, sadar diri tolong #AniesNasdemOut #TenggelamkanNasdem #TenggelamkanAniesNasdem #TenggelamkanPartaiNasdem #GoodByeNasdemAnies #AniesGabenerPembohong #KagagalanAniesituNyata https://t.co/uL49Gn2CAQ', 'lat': None, 'long': None, 'source': 'Twitter Web App', 'retweet_count': 0, 'reply_count': 0, 'like_count': 0, 'quote_count': 0, 'possibly_sensitive': False, 'tags': ['Anies Baswedan']}\n",
      "{'id': 1588053861838692353, 'author_username': 'm_amamy', 'created_at': '2022-11-03T06:21:59+00:00', 'text': '@VIVAcoid gak aneh, bagian dari bazer media👎', 'lat': None, 'long': None, 'source': 'Twitter Web App', 'retweet_count': 0, 'reply_count': 0, 'like_count': 0, 'quote_count': 0, 'possibly_sensitive': False, 'tags': ['Anies Baswedan']}\n",
      "{'id': 1588053862300405760, 'author_username': '_riverheaven', 'created_at': '2022-11-03T06:22:00+00:00', 'text': 'RT @al_lasan: R20 menjadi bukti bahwa Indonesia mampu menjadi rumah bagi keberagamaan dan contoh dalam penerapan toleransi\\n\\nAjang ini dapat…', 'lat': None, 'long': None, 'source': 'Twitter for Android', 'retweet_count': 1, 'reply_count': 0, 'like_count': 0, 'quote_count': 0, 'possibly_sensitive': False, 'tags': ['Erick Thohir']}\n",
      "{'id': 1588053869208432640, 'author_username': 'Fitrinisa01', 'created_at': '2022-11-03T06:22:01+00:00', 'text': '@Hasbil_Lbs Emng ada yg bisa di banggakan dgn nama YUDHOYONO!!!!', 'lat': None, 'long': None, 'source': 'Twitter for Android', 'retweet_count': 0, 'reply_count': 0, 'like_count': 0, 'quote_count': 0, 'possibly_sensitive': False, 'tags': ['Agus Harimurti Yudhoyono']}\n",
      "{'id': 1588053867056406528, 'author_username': 'Fauzi_21_', 'created_at': '2022-11-03T06:22:01+00:00', 'text': 'RT @P_etkLeeSegh: Laporan dari London Inggeris, yang berharap @aniesbaswedan jadi Presiden RI di pilpres 2024, \\nTerima kasih @NasDem kita t…', 'lat': None, 'long': None, 'source': 'Twitter Web App', 'retweet_count': 6, 'reply_count': 0, 'like_count': 0, 'quote_count': 0, 'possibly_sensitive': False, 'tags': ['Anies Baswedan']}\n",
      "{'id': 1588053872144449536, 'author_username': 'HapWesly', 'created_at': '2022-11-03T06:22:02+00:00', 'text': '@sulunghasian @NasDem @aniesbaswedan si brewok kan raja bunglon', 'lat': None, 'long': None, 'source': 'Twitter Web App', 'retweet_count': 0, 'reply_count': 0, 'like_count': 0, 'quote_count': 0, 'possibly_sensitive': False, 'tags': ['Anies Baswedan']}\n",
      "{'id': 1588053872538312705, 'author_username': 'gadingkelapa2', 'created_at': '2022-11-03T06:22:02+00:00', 'text': '@merahputihsuara Mdh2an turun smp dibawah 3 %,aamiiin', 'lat': None, 'long': None, 'source': 'Twitter for Android', 'retweet_count': 0, 'reply_count': 0, 'like_count': 0, 'quote_count': 0, 'possibly_sensitive': False, 'tags': ['Anies Baswedan']}\n",
      "{'id': 1588053877999702016, 'author_username': '_riverheaven', 'created_at': '2022-11-03T06:22:03+00:00', 'text': 'RT @RZelda_: InsyaAllah bisa jadi penentu kemenangan Pilpres 2024.\\n\\n@erickthohir \\n#BangkitBersamaET https://t.co/dVHHFX3JxP', 'lat': None, 'long': None, 'source': 'Twitter for Android', 'retweet_count': 2, 'reply_count': 0, 'like_count': 0, 'quote_count': 0, 'possibly_sensitive': False, 'tags': ['Erick Thohir']}\n",
      "{'id': 1588053880579190786, 'author_username': 'Devibeckham', 'created_at': '2022-11-03T06:22:04+00:00', 'text': 'RT @Relawananies: Tokoh Sumut: Dukungan Sudah Sampai Pelosok, Anies akan Meraih 65 Persen Suara\\n\\nhttps://t.co/7pFrtguGlS', 'lat': None, 'long': None, 'source': 'Twitter Web App', 'retweet_count': 25, 'reply_count': 0, 'like_count': 0, 'quote_count': 0, 'possibly_sensitive': False, 'tags': ['Anies Baswedan']}\n",
      "{'id': 1588053886065324032, 'author_username': 'NaheelaRumy', 'created_at': '2022-11-03T06:22:05+00:00', 'text': 'RT @KDuriani: sosok panutanku pak Prabowo ajak dunia wujudkan perdamaian dan kemakmuran bagi rakyat https://t.co/LlpguxIhly @prabowo #Mendi…', 'lat': None, 'long': None, 'source': 'Twitter Web App', 'retweet_count': 6, 'reply_count': 0, 'like_count': 0, 'quote_count': 0, 'possibly_sensitive': False, 'tags': ['Prabowo Subianto']}\n",
      "{'id': 1588053886388297729, 'author_username': 'pedangpajajaran', 'created_at': '2022-11-03T06:22:05+00:00', 'text': '@MahaBhisma @jokowi @erickthohir @KPK_RI @KejaksaanRI @mabespolrinews Dan keputusannya tergantung rakyat mau nggk perubahan?..', 'lat': None, 'long': None, 'source': 'Twitter Web App', 'retweet_count': 0, 'reply_count': 0, 'like_count': 0, 'quote_count': 0, 'possibly_sensitive': False, 'tags': ['Erick Thohir']}\n",
      "{'id': 1588053885242904576, 'author_username': 'Zwykli_Ludzie', 'created_at': '2022-11-03T06:22:05+00:00', 'text': '@cokro_tv Besok besok coba lu provokasi agama Yahudi yang ada di Indo bong!! 😂😂', 'lat': None, 'long': None, 'source': 'Twitter for Android', 'retweet_count': 0, 'reply_count': 0, 'like_count': 0, 'quote_count': 0, 'possibly_sensitive': False, 'tags': ['Anies Baswedan']}\n",
      "{'id': 1588053892075380736, 'author_username': 'bukan_main_', 'created_at': '2022-11-03T06:22:07+00:00', 'text': 'RT @CryptoKuta: Menteri BUMN Erick Thohir :\\nPesan Perdamaian Dunia Melalui Musik.\\nMusik begitu menyentuh,mengena dan mengetuk hati manusi d…', 'lat': None, 'long': None, 'source': 'Twitter for Android', 'retweet_count': 12, 'reply_count': 0, 'like_count': 0, 'quote_count': 0, 'possibly_sensitive': False, 'tags': ['Erick Thohir', 'Erick Thohir']}\n",
      "{'id': 1588053894995017728, 'author_username': 'NaheelaRumy', 'created_at': '2022-11-03T06:22:07+00:00', 'text': 'RT @IsyelRatu: “Sekarang kita sama-sama menunggu, siapa yang akan digandeng pak Prabowo sebagai calon wakil Presiden. Siapapun itu, akan me…', 'lat': None, 'long': None, 'source': 'Twitter Web App', 'retweet_count': 7, 'reply_count': 0, 'like_count': 0, 'quote_count': 0, 'possibly_sensitive': False, 'tags': ['Prabowo Subianto']}\n",
      "{'id': 1588053897243131905, 'author_username': 'jakarta_amanah', 'created_at': '2022-11-03T06:22:08+00:00', 'text': '@ekowboy2 agak stres ini si armando\\n\\nhttps://t.co/SBgNAEBr6P', 'lat': None, 'long': None, 'source': 'Twitter Web App', 'retweet_count': 0, 'reply_count': 0, 'like_count': 0, 'quote_count': 0, 'possibly_sensitive': False, 'tags': ['Anies Baswedan']}\n",
      "{'id': 1588053896035196928, 'author_username': 'AmandaVirza', 'created_at': '2022-11-03T06:22:08+00:00', 'text': 'RT @PerahuBambu: @MARQUEZ__93 E-Budgeting kan mudah diawasi oleh banyak pihak. Mkanya Anies menghabisinya; dia tidak mau transparan.\\n\\nTujua…', 'lat': None, 'long': None, 'source': 'Twitter for Android', 'retweet_count': 4, 'reply_count': 0, 'like_count': 0, 'quote_count': 0, 'possibly_sensitive': False, 'tags': ['Anies Baswedan']}\n",
      "{'id': 1588053894705266689, 'author_username': 'ayubapex', 'created_at': '2022-11-03T06:22:07+00:00', 'text': 'RT @ekowboy2: Rakyat bisa menilai..\\nSiapa yg benturkan Agama &amp; membabi buta serang Anies dg sentimen SARA \\n\\nIni jelas narasi pecah belah, t…', 'lat': None, 'long': None, 'source': 'Twitter for iPhone', 'retweet_count': 145, 'reply_count': 0, 'like_count': 0, 'quote_count': 0, 'possibly_sensitive': False, 'tags': ['Anies Baswedan']}\n",
      "{'id': 1588053903547207680, 'author_username': 'NaheelaRumy', 'created_at': '2022-11-03T06:22:09+00:00', 'text': 'RT @FitriHasiani: Menteri Pertahanan Prabowo Subianto mengajak para petinggi pertahanan, delegasi, dan para partisipan Indodefence 2022 unt…', 'lat': None, 'long': None, 'source': 'Twitter Web App', 'retweet_count': 5, 'reply_count': 0, 'like_count': 0, 'quote_count': 0, 'possibly_sensitive': False, 'tags': ['Prabowo Subianto']}\n",
      "{'id': 1588053911558320129, 'author_username': 'Ingin_BahagiaYa', 'created_at': '2022-11-03T06:22:11+00:00', 'text': '@MahaGur24314972 @Miduk17 Keturunan Yaman sdh ada disini jauh sebelum Indonesia merdeka. Keturunan mereka bahkan andil dlm perjuangan menuju kemerdekaan. Terbukti ada yg dianugerahi pahlawan Nasional (salah satunya adalah kakek Anies Baswedan)\\nJustru Krn kemunculan orang spt kalianlah yg bikin yg bkn rsk', 'lat': None, 'long': None, 'source': 'Twitter for Android', 'retweet_count': 0, 'reply_count': 0, 'like_count': 0, 'quote_count': 0, 'possibly_sensitive': False, 'tags': ['Anies Baswedan']}\n",
      "{'id': 1588053909150396416, 'author_username': '889Riki', 'created_at': '2022-11-03T06:22:11+00:00', 'text': 'RT @Ozil855282201: Kemesraan PPP dengan mas ANIES, sebuah pesan untuk Koalisi Indonesia Bersatu 🤫 https://t.co/5ANl8LlQRU', 'lat': None, 'long': None, 'source': 'Twitter Web App', 'retweet_count': 54, 'reply_count': 0, 'like_count': 0, 'quote_count': 0, 'possibly_sensitive': False, 'tags': ['Anies Baswedan']}\n",
      "{'id': 1588053909574406144, 'author_username': 'how378_', 'created_at': '2022-11-03T06:22:11+00:00', 'text': '@bukan_main_ @erickthohir Nah beda kan BUMN sekarang. Lebih merakyat 👍\\n#BangkitBersamaET', 'lat': None, 'long': None, 'source': 'Twitter for Android', 'retweet_count': 0, 'reply_count': 0, 'like_count': 0, 'quote_count': 0, 'possibly_sensitive': False, 'tags': ['Erick Thohir']}\n",
      "{'id': 1588053914175574016, 'author_username': 'bapenda_jabar', 'created_at': '2022-11-03T06:22:12+00:00', 'text': '@vsc0unt @ridwankamil @ata_lia @uuruzhan Mohon maaf atas ketidaknyamanannya, untuk proteksi kendaraan melalui Aplikasi Sambara sedang ada maintenance. Untuk melakukan proteksi bisa langsung mendatangi kantor Samsat Induk terkait.🙏', 'lat': None, 'long': None, 'source': 'Twitter for Android', 'retweet_count': 0, 'reply_count': 0, 'like_count': 0, 'quote_count': 0, 'possibly_sensitive': False, 'tags': ['Ridwan Kamil']}\n",
      "{'id': 1588053919803899904, 'author_username': 'BaadillahFayadh', 'created_at': '2022-11-03T06:22:13+00:00', 'text': '@john_wick1977 Apa lagi kalo pak Anies Baswedan di dampingi Bang Novel Bamukmin ...wuuiiiih tiada lawan akan selalu benar...\\nHahahahahahaha....Kaum nasi bungkus karet 2...', 'lat': None, 'long': None, 'source': 'Twitter for Android', 'retweet_count': 0, 'reply_count': 0, 'like_count': 0, 'quote_count': 0, 'possibly_sensitive': False, 'tags': ['Anies Baswedan']}\n",
      "Unexpected exception formatting exception. Falling back to standard exception\n"
     ]
    },
    {
     "name": "stderr",
     "output_type": "stream",
     "text": [
      "Traceback (most recent call last):\n",
      "  File \"/home/lan666as/miniconda3/envs/nlp-sentiment/lib/python3.10/site-packages/IPython/core/interactiveshell.py\", line 3378, in run_code\n",
      "    exec(code_obj, self.user_global_ns, self.user_ns)\n",
      "  File \"/tmp/ipykernel_2204/1654288716.py\", line 1, in <module>\n",
      "    streaming_client_test.filter(\n",
      "  File \"/home/lan666as/miniconda3/envs/nlp-sentiment/lib/python3.10/site-packages/tweepy/streaming.py\", line 791, in filter\n",
      "    if threaded:\n",
      "  File \"/home/lan666as/miniconda3/envs/nlp-sentiment/lib/python3.10/site-packages/tweepy/streaming.py\", line 611, in _connect\n",
      "    def _connect(self, method, endpoint, **kwargs):\n",
      "  File \"/home/lan666as/miniconda3/envs/nlp-sentiment/lib/python3.10/site-packages/tweepy/streaming.py\", line 87, in _connect\n",
      "  File \"/home/lan666as/miniconda3/envs/nlp-sentiment/lib/python3.10/site-packages/requests/models.py\", line 865, in iter_lines\n",
      "    for chunk in self.iter_content(\n",
      "  File \"/home/lan666as/miniconda3/envs/nlp-sentiment/lib/python3.10/site-packages/requests/models.py\", line 816, in generate\n",
      "    yield from self.raw.stream(chunk_size, decode_content=True)\n",
      "  File \"/home/lan666as/miniconda3/envs/nlp-sentiment/lib/python3.10/site-packages/urllib3/response.py\", line 623, in stream\n",
      "    for line in self.read_chunked(amt, decode_content=decode_content):\n",
      "  File \"/home/lan666as/miniconda3/envs/nlp-sentiment/lib/python3.10/site-packages/urllib3/response.py\", line 815, in read_chunked\n",
      "    self._update_chunk_length()\n",
      "  File \"/home/lan666as/miniconda3/envs/nlp-sentiment/lib/python3.10/site-packages/urllib3/response.py\", line 745, in _update_chunk_length\n",
      "    line = self._fp.fp.readline()\n",
      "  File \"/home/lan666as/miniconda3/envs/nlp-sentiment/lib/python3.10/socket.py\", line 705, in readinto\n",
      "    return self._sock.recv_into(b)\n",
      "  File \"/home/lan666as/miniconda3/envs/nlp-sentiment/lib/python3.10/ssl.py\", line 1274, in recv_into\n",
      "    return self.read(nbytes, buffer)\n",
      "  File \"/home/lan666as/miniconda3/envs/nlp-sentiment/lib/python3.10/ssl.py\", line 1130, in read\n",
      "    return self._sslobj.read(len, buffer)\n",
      "KeyboardInterrupt\n",
      "\n",
      "During handling of the above exception, another exception occurred:\n",
      "\n",
      "Traceback (most recent call last):\n",
      "  File \"/home/lan666as/miniconda3/envs/nlp-sentiment/lib/python3.10/site-packages/IPython/core/interactiveshell.py\", line 1997, in showtraceback\n",
      "    stb = self.InteractiveTB.structured_traceback(\n",
      "  File \"/home/lan666as/miniconda3/envs/nlp-sentiment/lib/python3.10/site-packages/IPython/core/ultratb.py\", line 1112, in structured_traceback\n",
      "    return FormattedTB.structured_traceback(\n",
      "  File \"/home/lan666as/miniconda3/envs/nlp-sentiment/lib/python3.10/site-packages/IPython/core/ultratb.py\", line 1006, in structured_traceback\n",
      "    return VerboseTB.structured_traceback(\n",
      "  File \"/home/lan666as/miniconda3/envs/nlp-sentiment/lib/python3.10/site-packages/IPython/core/ultratb.py\", line 859, in structured_traceback\n",
      "    formatted_exception = self.format_exception_as_a_whole(etype, evalue, etb, number_of_lines_of_context,\n",
      "  File \"/home/lan666as/miniconda3/envs/nlp-sentiment/lib/python3.10/site-packages/IPython/core/ultratb.py\", line 812, in format_exception_as_a_whole\n",
      "    frames.append(self.format_record(r))\n",
      "  File \"/home/lan666as/miniconda3/envs/nlp-sentiment/lib/python3.10/site-packages/IPython/core/ultratb.py\", line 730, in format_record\n",
      "    result += ''.join(_format_traceback_lines(frame_info.lines, Colors, self.has_colors, lvals))\n",
      "  File \"/home/lan666as/miniconda3/envs/nlp-sentiment/lib/python3.10/site-packages/stack_data/utils.py\", line 145, in cached_property_wrapper\n",
      "    value = obj.__dict__[self.func.__name__] = self.func(obj)\n",
      "  File \"/home/lan666as/miniconda3/envs/nlp-sentiment/lib/python3.10/site-packages/stack_data/core.py\", line 734, in lines\n",
      "    pieces = self.included_pieces\n",
      "  File \"/home/lan666as/miniconda3/envs/nlp-sentiment/lib/python3.10/site-packages/stack_data/utils.py\", line 145, in cached_property_wrapper\n",
      "    value = obj.__dict__[self.func.__name__] = self.func(obj)\n",
      "  File \"/home/lan666as/miniconda3/envs/nlp-sentiment/lib/python3.10/site-packages/stack_data/core.py\", line 681, in included_pieces\n",
      "    pos = scope_pieces.index(self.executing_piece)\n",
      "  File \"/home/lan666as/miniconda3/envs/nlp-sentiment/lib/python3.10/site-packages/stack_data/utils.py\", line 145, in cached_property_wrapper\n",
      "    value = obj.__dict__[self.func.__name__] = self.func(obj)\n",
      "  File \"/home/lan666as/miniconda3/envs/nlp-sentiment/lib/python3.10/site-packages/stack_data/core.py\", line 660, in executing_piece\n",
      "    return only(\n",
      "  File \"/home/lan666as/miniconda3/envs/nlp-sentiment/lib/python3.10/site-packages/executing/executing.py\", line 167, in only\n",
      "    raise NotOneValueFound('Expected one value, found 0')\n",
      "executing.executing.NotOneValueFound: Expected one value, found 0\n"
     ]
    }
   ],
   "source": [
    "streaming_client_test.filter(\n",
    "    expansions=ALL_EXPANSIONS,\n",
    "    media_fields=ALL_MEDIA_FIELDS,\n",
    "    place_fields=ALL_PLACE_FIELDS,\n",
    "    poll_fields=ALL_POLL_FIELDS,\n",
    "    tweet_fields=ALL_TWEET_FIELDS,\n",
    "    user_fields=ALL_USER_FIELDS\n",
    ")"
   ]
  },
  {
   "cell_type": "code",
   "execution_count": 3,
   "metadata": {},
   "outputs": [
    {
     "data": {
      "text/plain": [
       "Response(data=None, includes={}, errors=[], meta={'sent': '2022-11-03T05:32:17.379Z', 'summary': {'deleted': 18, 'not_deleted': 0}})"
      ]
     },
     "execution_count": 3,
     "metadata": {},
     "output_type": "execute_result"
    }
   ],
   "source": [
    "client.delete_rules([rule.id for rule in client.get_rules().data])"
   ]
  }
 ],
 "metadata": {
  "kernelspec": {
   "display_name": "Python 3.10.6 ('nlp-sentiment')",
   "language": "python",
   "name": "python3"
  },
  "language_info": {
   "codemirror_mode": {
    "name": "ipython",
    "version": 3
   },
   "file_extension": ".py",
   "mimetype": "text/x-python",
   "name": "python",
   "nbconvert_exporter": "python",
   "pygments_lexer": "ipython3",
   "version": "3.10.6"
  },
  "orig_nbformat": 4,
  "vscode": {
   "interpreter": {
    "hash": "fd11f9d2b798b8cefdc396ff62888ac706c94cdfe4d10d092c94577e3ff8d072"
   }
  }
 },
 "nbformat": 4,
 "nbformat_minor": 2
}
