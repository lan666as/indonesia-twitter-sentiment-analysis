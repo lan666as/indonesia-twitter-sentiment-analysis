{
 "cells": [
  {
   "cell_type": "code",
   "execution_count": 5,
   "metadata": {},
   "outputs": [],
   "source": [
    "import tweepy\n",
    "from kafka import KafkaProducer\n",
    "import json\n",
    "import config.config as config\n",
    "\n",
    "BEARER_TOKEN = config.BEARER_TOKEN\n",
    "ALL_EXPANSIONS = [\"author_id\", \"referenced_tweets.id\", \"edit_history_tweet_ids\", \"in_reply_to_user_id\", \"attachments.media_keys\", \"attachments.poll_ids\", \"geo.place_id\", \"entities.mentions.username\", \"referenced_tweets.id.author_id\",]\n",
    "ALL_MEDIA_FIELDS = [\"media_key\", \"type\", \"url\", \"duration_ms\", \"height\", \"preview_image_url\", \"public_metrics\", \"width\", \"alt_text\", \"variants\",]\n",
    "ALL_PLACE_FIELDS = [\"full_name\", \"id\", \"contained_within\", \"country\", \"country_code\", \"geo\", \"name\", \"place_type\",]\n",
    "ALL_POLL_FIELDS = [\"id\", \"options\", \"duration_minutes\", \"end_datetime\", \"voting_status\",]\n",
    "ALL_TWEET_FIELDS = [\"id\", \"text\", \"attachments\", \"author_id\", \"context_annotations\", \"conversation_id\", \"created_at\", \"entities\", \"geo\", \"in_reply_to_user_id\", \"lang\", \"possibly_sensitive\", \"public_metrics\", \"referenced_tweets\", \"reply_settings\", \"source\", \"withheld\",]\n",
    "ALL_USER_FIELDS = [\"id\", \"name\", \"username\", \"created_at\", \"description\", \"entities\", \"location\", \"pinned_tweet_id\", \"profile_image_url\", \"protected\", \"public_metrics\", \"url\", \"verified\", \"withheld\",]\n",
    "\n",
    "client = tweepy.StreamingClient(BEARER_TOKEN, wait_on_rate_limit=True)"
   ]
  },
  {
   "cell_type": "code",
   "execution_count": null,
   "metadata": {},
   "outputs": [],
   "source": [
    "client.add_rules(tweepy.StreamRule(\"(Anies OR @aniesbaswedan) lang:in\", tag=\"Anies Baswedan\"))\n",
    "client.add_rules(tweepy.StreamRule(\"(Ganjar OR @ganjarpranowo) lang:in\", tag=\"Ganjar Pranowo\"))\n",
    "client.add_rules(tweepy.StreamRule(\"(Prabowo OR @prabowo) lang:in\", tag=\"Prabowo Subianto\"))\n",
    "client.add_rules(tweepy.StreamRule(\"(Puan OR @puanmaharani_ri) lang:in\", tag=\"Puan Maharani\"))\n",
    "client.add_rules(tweepy.StreamRule(\"((Ridwan Kamil) OR (Kang Emil) OR @ridwankamil) lang:in\", tag=\"Ridwan Kamil\"))\n",
    "client.add_rules(tweepy.StreamRule(\"((Cak Imin) OR Muhaimin OR @cakimiNOW) lang:in\", tag=\"Muhaimin Iskandar\"))\n",
    "client.add_rules(tweepy.StreamRule(\"(Erick Thohir) OR @erickthohir lang:in\", tag=\"Erick Thohir\"))\n",
    "client.add_rules(tweepy.StreamRule('((Agus (Harimurti OR Yudhoyono)) OR \"AHY\" OR @AgusYudhoyono) lang:in', tag=\"Agus Harimurti Yudhoyono\"))\n",
    "client.add_rules(tweepy.StreamRule('(\"Airlangga\" OR \"Hartarto\" OR @airlangga_hrt) lang:in', tag=\"Airlangga Hartarto\"))"
   ]
  },
  {
   "cell_type": "code",
   "execution_count": 7,
   "metadata": {},
   "outputs": [
    {
     "data": {
      "text/plain": [
       "Response(data=[StreamRule(value='(Anies OR @aniesbaswedan) lang:in', tag='Anies Baswedan', id='1579646083214761984'), StreamRule(value='(Ganjar OR @ganjarpranowo) lang:in', tag='Ganjar Pranowo', id='1579646085894930432'), StreamRule(value='(Prabowo OR @prabowo) lang:in', tag='Prabowo Subianto', id='1579646088101122048'), StreamRule(value='(Puan OR @puanmaharani_ri) lang:in', tag='Puan Maharani', id='1579646090445742080'), StreamRule(value='((Ridwan Kamil) OR (Kang Emil) OR @ridwankamil) lang:in', tag='Ridwan Kamil', id='1579646092576423939'), StreamRule(value='((Cak Imin) OR Muhaimin OR @cakimiNOW) lang:in', tag='Muhaimin Iskandar', id='1579646094409347073'), StreamRule(value='(Erick Thohir) OR @erickthohir lang:in', tag='Erick Thohir', id='1579646096598794241'), StreamRule(value='((Agus (Harimurti OR Yudhoyono)) OR \"AHY\" OR @AgusYudhoyono) lang:in', tag='Agus Harimurti Yudhoyono', id='1579646099014684673'), StreamRule(value='(\"Airlangga\" OR \"Hartarto\" OR @airlangga_hrt) lang:in', tag='Airlangga Hartarto', id='1579646100843401218')], includes={}, errors=[], meta={'sent': '2022-11-02T08:17:57.249Z', 'result_count': 9})"
      ]
     },
     "execution_count": 7,
     "metadata": {},
     "output_type": "execute_result"
    }
   ],
   "source": [
    "client.get_rules()"
   ]
  },
  {
   "cell_type": "code",
   "execution_count": null,
   "metadata": {},
   "outputs": [],
   "source": [
    "client.delete_rules([rule.id for rule in client.get_rules().data])"
   ]
  }
 ],
 "metadata": {
  "kernelspec": {
   "display_name": "Python 3.10.6 ('nlp-sentiment')",
   "language": "python",
   "name": "python3"
  },
  "language_info": {
   "codemirror_mode": {
    "name": "ipython",
    "version": 3
   },
   "file_extension": ".py",
   "mimetype": "text/x-python",
   "name": "python",
   "nbconvert_exporter": "python",
   "pygments_lexer": "ipython3",
   "version": "3.10.6"
  },
  "orig_nbformat": 4,
  "vscode": {
   "interpreter": {
    "hash": "fd11f9d2b798b8cefdc396ff62888ac706c94cdfe4d10d092c94577e3ff8d072"
   }
  }
 },
 "nbformat": 4,
 "nbformat_minor": 2
}
