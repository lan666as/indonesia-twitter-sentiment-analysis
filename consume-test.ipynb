{
 "cells": [
  {
   "cell_type": "code",
   "execution_count": 1,
   "id": "cc624496-8192-4592-8c92-25688aa283da",
   "metadata": {},
   "outputs": [],
   "source": [
    "from kafka import KafkaConsumer\n",
    "import json"
   ]
  },
  {
   "cell_type": "code",
   "execution_count": 4,
   "id": "2854d31c-d157-46b4-9789-d32680ef46e5",
   "metadata": {},
   "outputs": [
    {
     "name": "stdout",
     "output_type": "stream",
     "text": [
      "ConsumerRecord(topic='retweets', partition=0, offset=65, timestamp=1667377828292, timestamp_type=0, key=None, value={'id': 1587723781610479618, 'date': '2022-11-02T08:30:22+00:00', 'text': 'RT @ridwankamil: Menghadiri rapat Paripurna DPRD Provinsi Jabar di Gedung DPRD Provinsi Jawa Barat. \\nWalau hari ini adalah tanggal 31, tapi…', 'tags': ['Ridwan Kamil']}, headers=[], checksum=None, serialized_key_size=-1, serialized_value_size=248, serialized_header_size=-1)\n",
      "ConsumerRecord(topic='retweets', partition=0, offset=66, timestamp=1667377830202, timestamp_type=0, key=None, value={'id': 1587723789713887232, 'date': '2022-11-02T08:30:24+00:00', 'text': 'RT @politik__2024: Kanjeng Ndoro @ganjarpranowo bagaikan nogososro merupakan simbol dari kepemimpinan yang adil dan bijaksana, dan naga ada…', 'tags': ['Ganjar Pranowo']}, headers=[], checksum=None, serialized_key_size=-1, serialized_value_size=249, serialized_header_size=-1)\n",
      "ConsumerRecord(topic='retweets', partition=0, offset=67, timestamp=1667377832198, timestamp_type=0, key=None, value={'id': 1587723798455152640, 'date': '2022-11-02T08:30:26+00:00', 'text': 'RT @cobeh2021: 4 Bulan Lalu\\nAnies Baswedan\\nCabut Izin 12 Holywings,\\nKini Segel Dilepas,\\nBuka Pakai Nama Baru\\n.\\nhttps://t.co/uYiXbM3Zwt http…', 'tags': ['Anies Baswedan']}, headers=[], checksum=None, serialized_key_size=-1, serialized_value_size=255, serialized_header_size=-1)\n",
      "ConsumerRecord(topic='retweets', partition=0, offset=68, timestamp=1667377835381, timestamp_type=0, key=None, value={'id': 1587723811834974208, 'date': '2022-11-02T08:30:29+00:00', 'text': 'RT @alisyarief: PPP Akui Sejumlah Kader Lebih Setuju Anies Jadi Capres 2024, Nah Kan? https://t.co/8PiL2ZtAZK', 'tags': ['Anies Baswedan']}, headers=[], checksum=None, serialized_key_size=-1, serialized_value_size=213, serialized_header_size=-1)\n",
      "ConsumerRecord(topic='retweets', partition=0, offset=69, timestamp=1667377836180, timestamp_type=0, key=None, value={'id': 1587723812270850048, 'date': '2022-11-02T08:30:29+00:00', 'text': 'RT @ajengcute16__: Rocky Gerung Anggap PDIP Hilang Taring Hadapi Anies Baswedan \\n\\n https://t.co/Z56CeGbJES', 'tags': ['Anies Baswedan']}, headers=[], checksum=None, serialized_key_size=-1, serialized_value_size=212, serialized_header_size=-1)\n",
      "ConsumerRecord(topic='retweets', partition=0, offset=70, timestamp=1667377839448, timestamp_type=0, key=None, value={'id': 1587723827983056897, 'date': '2022-11-02T08:30:33+00:00', 'text': 'RT @geloraco: Duh, Belum 100 Hari Ditinggal Anies, Jalur Sepeda DKI Jadi Tempat Ngetem Bajaj\\nhttps://t.co/vTGSy4gmJY', 'tags': ['Anies Baswedan']}, headers=[], checksum=None, serialized_key_size=-1, serialized_value_size=221, serialized_header_size=-1)\n",
      "ConsumerRecord(topic='retweets', partition=0, offset=71, timestamp=1667377842234, timestamp_type=0, key=None, value={'id': 1587723840787922944, 'date': '2022-11-02T08:30:36+00:00', 'text': 'RT @hariantoasimka: @agulmaspandira Anies untuk Indonesia yang lebih baik https://t.co/NMl6pAOPZj', 'tags': ['Anies Baswedan']}, headers=[], checksum=None, serialized_key_size=-1, serialized_value_size=201, serialized_header_size=-1)\n",
      "ConsumerRecord(topic='retweets', partition=0, offset=72, timestamp=1667377844344, timestamp_type=0, key=None, value={'id': 1587723845875957760, 'date': '2022-11-02T08:30:37+00:00', 'text': 'RT @p3juangNKRI: Wakil Ketua Umum PAN, Viva Yoga menilai wajar jika PPP tertarik usung Menteri BUMN Erick Thohir sebagai calon presiden ata…', 'tags': ['Erick Thohir', 'Erick Thohir']}, headers=[], checksum=None, serialized_key_size=-1, serialized_value_size=263, serialized_header_size=-1)\n",
      "ConsumerRecord(topic='retweets', partition=0, offset=73, timestamp=1667377844396, timestamp_type=0, key=None, value={'id': 1587723847238909952, 'date': '2022-11-02T08:30:38+00:00', 'text': 'RT @NenkMonica: Sebentar lagi Fraksi PKB DPRD Jateng akan diserang Buzzer Ganjar 🤭 https://t.co/QfCYFyaU0b', 'tags': ['Ganjar Pranowo']}, headers=[], checksum=None, serialized_key_size=-1, serialized_value_size=221, serialized_header_size=-1)\n",
      "ConsumerRecord(topic='retweets', partition=0, offset=74, timestamp=1667377848173, timestamp_type=0, key=None, value={'id': 1587723862137278467, 'date': '2022-11-02T08:30:41+00:00', 'text': 'RT @seruanhl: Menteri BUMN Erick Thohir terus mendorong para santri untuk menjadi bagian kemajuan Indonesia ke depan.\\n\\nMantap👍\\n\\nCc.\\n@erickt…', 'tags': ['Erick Thohir', 'Erick Thohir']}, headers=[], checksum=None, serialized_key_size=-1, serialized_value_size=279, serialized_header_size=-1)\n"
     ]
    },
    {
     "ename": "KeyboardInterrupt",
     "evalue": "",
     "output_type": "error",
     "traceback": [
      "\u001b[0;31m---------------------------------------------------------------------------\u001b[0m",
      "\u001b[0;31mKeyboardInterrupt\u001b[0m                         Traceback (most recent call last)",
      "Cell \u001b[0;32mIn [4], line 5\u001b[0m\n\u001b[1;32m      1\u001b[0m consumer \u001b[39m=\u001b[39m KafkaConsumer(\n\u001b[1;32m      2\u001b[0m     \u001b[39m'\u001b[39m\u001b[39mretweets\u001b[39m\u001b[39m'\u001b[39m,\n\u001b[1;32m      3\u001b[0m     value_deserializer\u001b[39m=\u001b[39m\u001b[39mlambda\u001b[39;00m m: json\u001b[39m.\u001b[39mloads(m\u001b[39m.\u001b[39mdecode(\u001b[39m'\u001b[39m\u001b[39mutf-8\u001b[39m\u001b[39m'\u001b[39m))\n\u001b[1;32m      4\u001b[0m )\n\u001b[0;32m----> 5\u001b[0m \u001b[39mfor\u001b[39;00m msg \u001b[39min\u001b[39;00m consumer:\n\u001b[1;32m      6\u001b[0m     \u001b[39mprint\u001b[39m (msg)\n",
      "File \u001b[0;32m~/miniconda3/envs/nlp-sentiment/lib/python3.10/site-packages/kafka/consumer/group.py:1193\u001b[0m, in \u001b[0;36mKafkaConsumer.__next__\u001b[0;34m(self)\u001b[0m\n\u001b[1;32m   1191\u001b[0m     \u001b[39mreturn\u001b[39;00m \u001b[39mself\u001b[39m\u001b[39m.\u001b[39mnext_v1()\n\u001b[1;32m   1192\u001b[0m \u001b[39melse\u001b[39;00m:\n\u001b[0;32m-> 1193\u001b[0m     \u001b[39mreturn\u001b[39;00m \u001b[39mself\u001b[39;49m\u001b[39m.\u001b[39;49mnext_v2()\n",
      "File \u001b[0;32m~/miniconda3/envs/nlp-sentiment/lib/python3.10/site-packages/kafka/consumer/group.py:1201\u001b[0m, in \u001b[0;36mKafkaConsumer.next_v2\u001b[0;34m(self)\u001b[0m\n\u001b[1;32m   1199\u001b[0m     \u001b[39mself\u001b[39m\u001b[39m.\u001b[39m_iterator \u001b[39m=\u001b[39m \u001b[39mself\u001b[39m\u001b[39m.\u001b[39m_message_generator_v2()\n\u001b[1;32m   1200\u001b[0m \u001b[39mtry\u001b[39;00m:\n\u001b[0;32m-> 1201\u001b[0m     \u001b[39mreturn\u001b[39;00m \u001b[39mnext\u001b[39;49m(\u001b[39mself\u001b[39;49m\u001b[39m.\u001b[39;49m_iterator)\n\u001b[1;32m   1202\u001b[0m \u001b[39mexcept\u001b[39;00m \u001b[39mStopIteration\u001b[39;00m:\n\u001b[1;32m   1203\u001b[0m     \u001b[39mself\u001b[39m\u001b[39m.\u001b[39m_iterator \u001b[39m=\u001b[39m \u001b[39mNone\u001b[39;00m\n",
      "File \u001b[0;32m~/miniconda3/envs/nlp-sentiment/lib/python3.10/site-packages/kafka/consumer/group.py:1116\u001b[0m, in \u001b[0;36mKafkaConsumer._message_generator_v2\u001b[0;34m(self)\u001b[0m\n\u001b[1;32m   1114\u001b[0m \u001b[39mdef\u001b[39;00m \u001b[39m_message_generator_v2\u001b[39m(\u001b[39mself\u001b[39m):\n\u001b[1;32m   1115\u001b[0m     timeout_ms \u001b[39m=\u001b[39m \u001b[39m1000\u001b[39m \u001b[39m*\u001b[39m (\u001b[39mself\u001b[39m\u001b[39m.\u001b[39m_consumer_timeout \u001b[39m-\u001b[39m time\u001b[39m.\u001b[39mtime())\n\u001b[0;32m-> 1116\u001b[0m     record_map \u001b[39m=\u001b[39m \u001b[39mself\u001b[39;49m\u001b[39m.\u001b[39;49mpoll(timeout_ms\u001b[39m=\u001b[39;49mtimeout_ms, update_offsets\u001b[39m=\u001b[39;49m\u001b[39mFalse\u001b[39;49;00m)\n\u001b[1;32m   1117\u001b[0m     \u001b[39mfor\u001b[39;00m tp, records \u001b[39min\u001b[39;00m six\u001b[39m.\u001b[39miteritems(record_map):\n\u001b[1;32m   1118\u001b[0m         \u001b[39m# Generators are stateful, and it is possible that the tp / records\u001b[39;00m\n\u001b[1;32m   1119\u001b[0m         \u001b[39m# here may become stale during iteration -- i.e., we seek to a\u001b[39;00m\n\u001b[1;32m   1120\u001b[0m         \u001b[39m# different offset, pause consumption, or lose assignment.\u001b[39;00m\n\u001b[1;32m   1121\u001b[0m         \u001b[39mfor\u001b[39;00m record \u001b[39min\u001b[39;00m records:\n\u001b[1;32m   1122\u001b[0m             \u001b[39m# is_fetchable(tp) should handle assignment changes and offset\u001b[39;00m\n\u001b[1;32m   1123\u001b[0m             \u001b[39m# resets; for all other changes (e.g., seeks) we'll rely on the\u001b[39;00m\n\u001b[1;32m   1124\u001b[0m             \u001b[39m# outer function destroying the existing iterator/generator\u001b[39;00m\n\u001b[1;32m   1125\u001b[0m             \u001b[39m# via self._iterator = None\u001b[39;00m\n",
      "File \u001b[0;32m~/miniconda3/envs/nlp-sentiment/lib/python3.10/site-packages/kafka/consumer/group.py:655\u001b[0m, in \u001b[0;36mKafkaConsumer.poll\u001b[0;34m(self, timeout_ms, max_records, update_offsets)\u001b[0m\n\u001b[1;32m    653\u001b[0m remaining \u001b[39m=\u001b[39m timeout_ms\n\u001b[1;32m    654\u001b[0m \u001b[39mwhile\u001b[39;00m \u001b[39mTrue\u001b[39;00m:\n\u001b[0;32m--> 655\u001b[0m     records \u001b[39m=\u001b[39m \u001b[39mself\u001b[39;49m\u001b[39m.\u001b[39;49m_poll_once(remaining, max_records, update_offsets\u001b[39m=\u001b[39;49mupdate_offsets)\n\u001b[1;32m    656\u001b[0m     \u001b[39mif\u001b[39;00m records:\n\u001b[1;32m    657\u001b[0m         \u001b[39mreturn\u001b[39;00m records\n",
      "File \u001b[0;32m~/miniconda3/envs/nlp-sentiment/lib/python3.10/site-packages/kafka/consumer/group.py:702\u001b[0m, in \u001b[0;36mKafkaConsumer._poll_once\u001b[0;34m(self, timeout_ms, max_records, update_offsets)\u001b[0m\n\u001b[1;32m    699\u001b[0m     \u001b[39mself\u001b[39m\u001b[39m.\u001b[39m_client\u001b[39m.\u001b[39mpoll(timeout_ms\u001b[39m=\u001b[39m\u001b[39m0\u001b[39m)\n\u001b[1;32m    701\u001b[0m timeout_ms \u001b[39m=\u001b[39m \u001b[39mmin\u001b[39m(timeout_ms, \u001b[39mself\u001b[39m\u001b[39m.\u001b[39m_coordinator\u001b[39m.\u001b[39mtime_to_next_poll() \u001b[39m*\u001b[39m \u001b[39m1000\u001b[39m)\n\u001b[0;32m--> 702\u001b[0m \u001b[39mself\u001b[39;49m\u001b[39m.\u001b[39;49m_client\u001b[39m.\u001b[39;49mpoll(timeout_ms\u001b[39m=\u001b[39;49mtimeout_ms)\n\u001b[1;32m    703\u001b[0m \u001b[39m# after the long poll, we should check whether the group needs to rebalance\u001b[39;00m\n\u001b[1;32m    704\u001b[0m \u001b[39m# prior to returning data so that the group can stabilize faster\u001b[39;00m\n\u001b[1;32m    705\u001b[0m \u001b[39mif\u001b[39;00m \u001b[39mself\u001b[39m\u001b[39m.\u001b[39m_coordinator\u001b[39m.\u001b[39mneed_rejoin():\n",
      "File \u001b[0;32m~/miniconda3/envs/nlp-sentiment/lib/python3.10/site-packages/kafka/client_async.py:602\u001b[0m, in \u001b[0;36mKafkaClient.poll\u001b[0;34m(self, timeout_ms, future)\u001b[0m\n\u001b[1;32m    599\u001b[0m             timeout \u001b[39m=\u001b[39m \u001b[39mmin\u001b[39m(timeout, \u001b[39mself\u001b[39m\u001b[39m.\u001b[39mconfig[\u001b[39m'\u001b[39m\u001b[39mretry_backoff_ms\u001b[39m\u001b[39m'\u001b[39m])\n\u001b[1;32m    600\u001b[0m         timeout \u001b[39m=\u001b[39m \u001b[39mmax\u001b[39m(\u001b[39m0\u001b[39m, timeout)  \u001b[39m# avoid negative timeouts\u001b[39;00m\n\u001b[0;32m--> 602\u001b[0m     \u001b[39mself\u001b[39;49m\u001b[39m.\u001b[39;49m_poll(timeout \u001b[39m/\u001b[39;49m \u001b[39m1000\u001b[39;49m)\n\u001b[1;32m    604\u001b[0m \u001b[39m# called without the lock to avoid deadlock potential\u001b[39;00m\n\u001b[1;32m    605\u001b[0m \u001b[39m# if handlers need to acquire locks\u001b[39;00m\n\u001b[1;32m    606\u001b[0m responses\u001b[39m.\u001b[39mextend(\u001b[39mself\u001b[39m\u001b[39m.\u001b[39m_fire_pending_completed_requests())\n",
      "File \u001b[0;32m~/miniconda3/envs/nlp-sentiment/lib/python3.10/site-packages/kafka/client_async.py:634\u001b[0m, in \u001b[0;36mKafkaClient._poll\u001b[0;34m(self, timeout)\u001b[0m\n\u001b[1;32m    631\u001b[0m \u001b[39mself\u001b[39m\u001b[39m.\u001b[39m_register_send_sockets()\n\u001b[1;32m    633\u001b[0m start_select \u001b[39m=\u001b[39m time\u001b[39m.\u001b[39mtime()\n\u001b[0;32m--> 634\u001b[0m ready \u001b[39m=\u001b[39m \u001b[39mself\u001b[39;49m\u001b[39m.\u001b[39;49m_selector\u001b[39m.\u001b[39;49mselect(timeout)\n\u001b[1;32m    635\u001b[0m end_select \u001b[39m=\u001b[39m time\u001b[39m.\u001b[39mtime()\n\u001b[1;32m    636\u001b[0m \u001b[39mif\u001b[39;00m \u001b[39mself\u001b[39m\u001b[39m.\u001b[39m_sensors:\n",
      "File \u001b[0;32m~/miniconda3/envs/nlp-sentiment/lib/python3.10/selectors.py:469\u001b[0m, in \u001b[0;36mEpollSelector.select\u001b[0;34m(self, timeout)\u001b[0m\n\u001b[1;32m    467\u001b[0m ready \u001b[39m=\u001b[39m []\n\u001b[1;32m    468\u001b[0m \u001b[39mtry\u001b[39;00m:\n\u001b[0;32m--> 469\u001b[0m     fd_event_list \u001b[39m=\u001b[39m \u001b[39mself\u001b[39;49m\u001b[39m.\u001b[39;49m_selector\u001b[39m.\u001b[39;49mpoll(timeout, max_ev)\n\u001b[1;32m    470\u001b[0m \u001b[39mexcept\u001b[39;00m \u001b[39mInterruptedError\u001b[39;00m:\n\u001b[1;32m    471\u001b[0m     \u001b[39mreturn\u001b[39;00m ready\n",
      "\u001b[0;31mKeyboardInterrupt\u001b[0m: "
     ]
    }
   ],
   "source": [
    "consumer = KafkaConsumer(\n",
    "    'retweets',\n",
    "    value_deserializer=lambda m: json.loads(m.decode('utf-8'))\n",
    ")\n",
    "for msg in consumer:\n",
    "    print (msg)"
   ]
  },
  {
   "cell_type": "code",
   "execution_count": null,
   "id": "f637ed7c-1fae-4516-87bc-918d4b39e99b",
   "metadata": {},
   "outputs": [],
   "source": []
  }
 ],
 "metadata": {
  "kernelspec": {
   "display_name": "Python 3.10.6 ('nlp-sentiment')",
   "language": "python",
   "name": "python3"
  },
  "language_info": {
   "codemirror_mode": {
    "name": "ipython",
    "version": 3
   },
   "file_extension": ".py",
   "mimetype": "text/x-python",
   "name": "python",
   "nbconvert_exporter": "python",
   "pygments_lexer": "ipython3",
   "version": "3.10.6"
  },
  "vscode": {
   "interpreter": {
    "hash": "fd11f9d2b798b8cefdc396ff62888ac706c94cdfe4d10d092c94577e3ff8d072"
   }
  }
 },
 "nbformat": 4,
 "nbformat_minor": 5
}
