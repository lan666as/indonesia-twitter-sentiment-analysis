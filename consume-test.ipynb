{
 "cells": [
  {
   "cell_type": "code",
   "execution_count": 1,
   "id": "cc624496-8192-4592-8c92-25688aa283da",
   "metadata": {},
   "outputs": [],
   "source": [
    "from kafka import KafkaConsumer\n",
    "import json"
   ]
  },
  {
   "cell_type": "code",
   "execution_count": 2,
   "id": "2854d31c-d157-46b4-9789-d32680ef46e5",
   "metadata": {},
   "outputs": [
    {
     "ename": "NoBrokersAvailable",
     "evalue": "NoBrokersAvailable",
     "output_type": "error",
     "traceback": [
      "\u001b[0;31m---------------------------------------------------------------------------\u001b[0m",
      "\u001b[0;31mNoBrokersAvailable\u001b[0m                        Traceback (most recent call last)",
      "Cell \u001b[0;32mIn [2], line 1\u001b[0m\n\u001b[0;32m----> 1\u001b[0m consumer \u001b[39m=\u001b[39m KafkaConsumer(\n\u001b[1;32m      2\u001b[0m     \u001b[39m'\u001b[39m\u001b[39mtweets_processed_v2\u001b[39m\u001b[39m'\u001b[39m,\n\u001b[1;32m      3\u001b[0m     value_deserializer\u001b[39m=\u001b[39m\u001b[39mlambda\u001b[39;00m m: json\u001b[39m.\u001b[39mloads(m\u001b[39m.\u001b[39mdecode(\u001b[39m'\u001b[39m\u001b[39mutf-8\u001b[39m\u001b[39m'\u001b[39m))\n\u001b[1;32m      4\u001b[0m )\n\u001b[1;32m      5\u001b[0m \u001b[39mfor\u001b[39;00m msg \u001b[39min\u001b[39;00m consumer:\n\u001b[1;32m      6\u001b[0m     \u001b[39mprint\u001b[39m (msg)\n",
      "File \u001b[0;32m~/miniconda3/envs/nlp-sentiment/lib/python3.10/site-packages/kafka/consumer/group.py:356\u001b[0m, in \u001b[0;36mKafkaConsumer.__init__\u001b[0;34m(self, *topics, **configs)\u001b[0m\n\u001b[1;32m    352\u001b[0m         \u001b[39mself\u001b[39m\u001b[39m.\u001b[39mconfig[\u001b[39m'\u001b[39m\u001b[39mapi_version\u001b[39m\u001b[39m'\u001b[39m] \u001b[39m=\u001b[39m \u001b[39mtuple\u001b[39m(\u001b[39mmap\u001b[39m(\u001b[39mint\u001b[39m, str_version\u001b[39m.\u001b[39msplit(\u001b[39m'\u001b[39m\u001b[39m.\u001b[39m\u001b[39m'\u001b[39m)))\n\u001b[1;32m    353\u001b[0m     log\u001b[39m.\u001b[39mwarning(\u001b[39m'\u001b[39m\u001b[39muse api_version=\u001b[39m\u001b[39m%s\u001b[39;00m\u001b[39m [tuple] -- \u001b[39m\u001b[39m\"\u001b[39m\u001b[39m%s\u001b[39;00m\u001b[39m\"\u001b[39m\u001b[39m as str is deprecated\u001b[39m\u001b[39m'\u001b[39m,\n\u001b[1;32m    354\u001b[0m                 \u001b[39mstr\u001b[39m(\u001b[39mself\u001b[39m\u001b[39m.\u001b[39mconfig[\u001b[39m'\u001b[39m\u001b[39mapi_version\u001b[39m\u001b[39m'\u001b[39m]), str_version)\n\u001b[0;32m--> 356\u001b[0m \u001b[39mself\u001b[39m\u001b[39m.\u001b[39m_client \u001b[39m=\u001b[39m KafkaClient(metrics\u001b[39m=\u001b[39;49m\u001b[39mself\u001b[39;49m\u001b[39m.\u001b[39;49m_metrics, \u001b[39m*\u001b[39;49m\u001b[39m*\u001b[39;49m\u001b[39mself\u001b[39;49m\u001b[39m.\u001b[39;49mconfig)\n\u001b[1;32m    358\u001b[0m \u001b[39m# Get auto-discovered version from client if necessary\u001b[39;00m\n\u001b[1;32m    359\u001b[0m \u001b[39mif\u001b[39;00m \u001b[39mself\u001b[39m\u001b[39m.\u001b[39mconfig[\u001b[39m'\u001b[39m\u001b[39mapi_version\u001b[39m\u001b[39m'\u001b[39m] \u001b[39mis\u001b[39;00m \u001b[39mNone\u001b[39;00m:\n",
      "File \u001b[0;32m~/miniconda3/envs/nlp-sentiment/lib/python3.10/site-packages/kafka/client_async.py:244\u001b[0m, in \u001b[0;36mKafkaClient.__init__\u001b[0;34m(self, **configs)\u001b[0m\n\u001b[1;32m    242\u001b[0m \u001b[39mif\u001b[39;00m \u001b[39mself\u001b[39m\u001b[39m.\u001b[39mconfig[\u001b[39m'\u001b[39m\u001b[39mapi_version\u001b[39m\u001b[39m'\u001b[39m] \u001b[39mis\u001b[39;00m \u001b[39mNone\u001b[39;00m:\n\u001b[1;32m    243\u001b[0m     check_timeout \u001b[39m=\u001b[39m \u001b[39mself\u001b[39m\u001b[39m.\u001b[39mconfig[\u001b[39m'\u001b[39m\u001b[39mapi_version_auto_timeout_ms\u001b[39m\u001b[39m'\u001b[39m] \u001b[39m/\u001b[39m \u001b[39m1000\u001b[39m\n\u001b[0;32m--> 244\u001b[0m     \u001b[39mself\u001b[39m\u001b[39m.\u001b[39mconfig[\u001b[39m'\u001b[39m\u001b[39mapi_version\u001b[39m\u001b[39m'\u001b[39m] \u001b[39m=\u001b[39m \u001b[39mself\u001b[39;49m\u001b[39m.\u001b[39;49mcheck_version(timeout\u001b[39m=\u001b[39;49mcheck_timeout)\n",
      "File \u001b[0;32m~/miniconda3/envs/nlp-sentiment/lib/python3.10/site-packages/kafka/client_async.py:900\u001b[0m, in \u001b[0;36mKafkaClient.check_version\u001b[0;34m(self, node_id, timeout, strict)\u001b[0m\n\u001b[1;32m    898\u001b[0m \u001b[39mif\u001b[39;00m try_node \u001b[39mis\u001b[39;00m \u001b[39mNone\u001b[39;00m:\n\u001b[1;32m    899\u001b[0m     \u001b[39mself\u001b[39m\u001b[39m.\u001b[39m_lock\u001b[39m.\u001b[39mrelease()\n\u001b[0;32m--> 900\u001b[0m     \u001b[39mraise\u001b[39;00m Errors\u001b[39m.\u001b[39mNoBrokersAvailable()\n\u001b[1;32m    901\u001b[0m \u001b[39mself\u001b[39m\u001b[39m.\u001b[39m_maybe_connect(try_node)\n\u001b[1;32m    902\u001b[0m conn \u001b[39m=\u001b[39m \u001b[39mself\u001b[39m\u001b[39m.\u001b[39m_conns[try_node]\n",
      "\u001b[0;31mNoBrokersAvailable\u001b[0m: NoBrokersAvailable"
     ]
    }
   ],
   "source": [
    "consumer = KafkaConsumer(\n",
    "    'tweets_processed_v2',\n",
    "    bootstrap_servers=['localhost:29092'],\n",
    "    value_deserializer=lambda m: json.loads(m.decode('utf-8'))\n",
    ")\n",
    "for msg in consumer:\n",
    "    print (msg)"
   ]
  }
 ],
 "metadata": {
  "kernelspec": {
   "display_name": "nlp-sentiment",
   "language": "python",
   "name": "python3"
  },
  "language_info": {
   "codemirror_mode": {
    "name": "ipython",
    "version": 3
   },
   "file_extension": ".py",
   "mimetype": "text/x-python",
   "name": "python",
   "nbconvert_exporter": "python",
   "pygments_lexer": "ipython3",
   "version": "3.10.6"
  },
  "vscode": {
   "interpreter": {
    "hash": "fd11f9d2b798b8cefdc396ff62888ac706c94cdfe4d10d092c94577e3ff8d072"
   }
  }
 },
 "nbformat": 4,
 "nbformat_minor": 5
}
