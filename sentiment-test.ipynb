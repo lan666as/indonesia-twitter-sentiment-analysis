{
 "cells": [
  {
   "cell_type": "code",
   "execution_count": 1,
   "metadata": {},
   "outputs": [
    {
     "name": "stderr",
     "output_type": "stream",
     "text": [
      "/home/lan666as/miniconda3/envs/nlp-sentiment/lib/python3.10/site-packages/tqdm/auto.py:22: TqdmWarning: IProgress not found. Please update jupyter and ipywidgets. See https://ipywidgets.readthedocs.io/en/stable/user_install.html\n",
      "  from .autonotebook import tqdm as notebook_tqdm\n"
     ]
    }
   ],
   "source": [
    "from sentiment.sentiment_transformer import SentimentAnalyzerPipeline\n",
    "from sentiment.preprocess import preprocess"
   ]
  },
  {
   "cell_type": "code",
   "execution_count": 8,
   "metadata": {},
   "outputs": [],
   "source": [
    "text = \"\"\"\n",
    "Anies Baswedan Tebar Benih Ikan Sambil \"Belanja\" Masalah di Sleman\n",
    "\n",
    "Di sela pulang kampung di Yogyakarta, mantan Gubernur DKI Jakarta Anies Baswedan bertemu dengan kelompok pembudi daya ikan Mina Jaya, Sendangtirto, Berbah, Sleman, Kamis (17/11).\n",
    "\n",
    "Di kompleks kolam budi daya ikan air tawar ini, Anies melakukan tabur benih ikan nila yang jumlahnya sekitar 1.000 ekor yang dikemas dalam tiga kantong plastik. \n",
    "\n",
    "Bakal calon presiden dari Partai NasDem ini juga melakukan dialog dengan kalangan petani pembudi daya ikan air tawar. \n",
    "\n",
    "\"Menebar benih ikan nila, sambil kulakan masalah bersama kelompok pembudi daya ikan Mina Jaya, Sendangtirto, Berbah, Sleman, kemarin,\" tulis Anies melalui akun Facebook-nya, Jumat (18/11).\n",
    "\n",
    "\"Untuk menyerap persoalan di akar rumput, kami belanja masalah yang sedang dihadapi oleh masyarakat luas di berbagai sektor, salah satunya pembudi daya ikan air tawar,\" sambungnya.\n",
    "\n",
    "Anies mengaku datang untuk mendengarkan tantangan dihadapi masyarakat. Sehingga dapat melihat bagaimana seharusnya dirinya memperbaiki, koreksi, meneruskan atau mempertahankan yang sudah berjalan bagus.\n",
    "\n",
    "\"Kita ingin rakyat dapat merasakan hidup lebih baik dan maju, menikmati kesejahteraan yang merata. Mewujudkan keadilan sosial yang sebenarnya,\" demikian Anies.\n",
    "\"\"\""
   ]
  },
  {
   "cell_type": "code",
   "execution_count": 9,
   "metadata": {},
   "outputs": [
    {
     "data": {
      "text/plain": [
       "'Anies Baswedan Tebar Benih Ikan Sambil \"Belanja\" Masalah di Sleman Di sela pulang kampung di Yogyakarta, mantan Gubernur Daerah Khusus Ibukota Jakarta Anies Baswedan bertemu dengan kelompok pembudi daya ikan Mina Jaya, Sendangtirto, Berbah, Sleman, Kamis (17 11). Di kompleks kolam budi daya ikan air tawar ini, Anies melakukan tabur benih ikan nila yang jumlahnya sekitar 1.000 ekor yang dikemas dalam tiga kantong plastik.\\xa0 Bakal calon presiden dari Partai nasional demokrat ini juga melakukan dialog dengan kalangan petani pembudi daya ikan air tawar.\\xa0 \"Menebar benih ikan nila, sambil kulakan masalah bersama kelompok pembudi daya ikan Mina Jaya, Sendangtirto, Berbah, Sleman, kemarin,\" tulis Anies melalui akun Facebook-nya, Jumat (18 11). \"Untuk menyerap persoalan di akar rumput, kami belanja masalah yang sedang dihadapi oleh masyarakat luas di berbagai sektor, salah satunya pembudi daya ikan air tawar,\" sambungnya. Anies mengaku datang untuk mendengarkan tantangan dihadapi masyarakat. Sehingga dapat melihat bagaimana seharusnya dirinya memperbaiki, koreksi, meneruskan atau mempertahankan yang sudah berjalan bagus. \"Kita ingin rakyat dapat merasakan hidup lebih baik dan maju, menikmati kesejahteraan yang merata. Mewujudkan keadilan sosial yang sebenarnya,\" demikian Anies.'"
      ]
     },
     "execution_count": 9,
     "metadata": {},
     "output_type": "execute_result"
    }
   ],
   "source": [
    "clean_text = preprocess(text)\n",
    "\n",
    "clean_text"
   ]
  },
  {
   "cell_type": "code",
   "execution_count": 10,
   "metadata": {},
   "outputs": [
    {
     "data": {
      "text/plain": [
       "[{'label': 'neutral', 'score': 0.9216606020927429}]"
      ]
     },
     "execution_count": 10,
     "metadata": {},
     "output_type": "execute_result"
    }
   ],
   "source": [
    "analyzer = SentimentAnalyzerPipeline()\n",
    "\n",
    "analyzer.predict(clean_text)"
   ]
  }
 ],
 "metadata": {
  "kernelspec": {
   "display_name": "Python 3.10.6 ('nlp-sentiment')",
   "language": "python",
   "name": "python3"
  },
  "language_info": {
   "codemirror_mode": {
    "name": "ipython",
    "version": 3
   },
   "file_extension": ".py",
   "mimetype": "text/x-python",
   "name": "python",
   "nbconvert_exporter": "python",
   "pygments_lexer": "ipython3",
   "version": "3.10.6"
  },
  "orig_nbformat": 4,
  "vscode": {
   "interpreter": {
    "hash": "fd11f9d2b798b8cefdc396ff62888ac706c94cdfe4d10d092c94577e3ff8d072"
   }
  }
 },
 "nbformat": 4,
 "nbformat_minor": 2
}
